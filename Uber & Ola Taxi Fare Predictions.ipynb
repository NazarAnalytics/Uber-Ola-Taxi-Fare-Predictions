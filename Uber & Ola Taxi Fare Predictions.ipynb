{
 "cells": [
  {
   "cell_type": "code",
   "execution_count": 4,
   "metadata": {},
   "outputs": [],
   "source": [
    "taxi_train = \"data/tax-fare/taxi-fare-train.csv\"\n",
    "taxi_test = \"data/tax-fare/taxi-fare-test.csv\""
   ]
  },
  {
   "cell_type": "code",
   "execution_count": 5,
   "metadata": {},
   "outputs": [],
   "source": [
    "\n",
    "from sklearn import linear_model\n",
    "import pandas as pd\n",
    "import matplotlib.pyplot as plt\n",
    "import numpy as np\n",
    "# import math   # yep! going to a bit of maths later!!\n",
    "# from scipy import stats as st # and some stats"
   ]
  },
  {
   "cell_type": "markdown",
   "metadata": {},
   "source": [
    "## Data load and exploration"
   ]
  },
  {
   "cell_type": "code",
   "execution_count": 6,
   "metadata": {},
   "outputs": [
    {
     "data": {
      "text/html": [
       "<div>\n",
       "<style scoped>\n",
       "    .dataframe tbody tr th:only-of-type {\n",
       "        vertical-align: middle;\n",
       "    }\n",
       "\n",
       "    .dataframe tbody tr th {\n",
       "        vertical-align: top;\n",
       "    }\n",
       "\n",
       "    .dataframe thead th {\n",
       "        text-align: right;\n",
       "    }\n",
       "</style>\n",
       "<table border=\"1\" class=\"dataframe\">\n",
       "  <thead>\n",
       "    <tr style=\"text-align: right;\">\n",
       "      <th></th>\n",
       "      <th>vendor_id</th>\n",
       "      <th>rate_code</th>\n",
       "      <th>passenger_count</th>\n",
       "      <th>trip_time_in_secs</th>\n",
       "      <th>trip_distance</th>\n",
       "      <th>payment_type</th>\n",
       "      <th>fare_amount</th>\n",
       "    </tr>\n",
       "  </thead>\n",
       "  <tbody>\n",
       "    <tr>\n",
       "      <th>0</th>\n",
       "      <td>CMT</td>\n",
       "      <td>1</td>\n",
       "      <td>1</td>\n",
       "      <td>1271</td>\n",
       "      <td>3.8</td>\n",
       "      <td>CRD</td>\n",
       "      <td>17.5</td>\n",
       "    </tr>\n",
       "    <tr>\n",
       "      <th>1</th>\n",
       "      <td>CMT</td>\n",
       "      <td>1</td>\n",
       "      <td>1</td>\n",
       "      <td>474</td>\n",
       "      <td>1.5</td>\n",
       "      <td>CRD</td>\n",
       "      <td>8.0</td>\n",
       "    </tr>\n",
       "    <tr>\n",
       "      <th>2</th>\n",
       "      <td>CMT</td>\n",
       "      <td>1</td>\n",
       "      <td>1</td>\n",
       "      <td>637</td>\n",
       "      <td>1.4</td>\n",
       "      <td>CRD</td>\n",
       "      <td>8.5</td>\n",
       "    </tr>\n",
       "    <tr>\n",
       "      <th>3</th>\n",
       "      <td>CMT</td>\n",
       "      <td>1</td>\n",
       "      <td>1</td>\n",
       "      <td>181</td>\n",
       "      <td>0.6</td>\n",
       "      <td>CSH</td>\n",
       "      <td>4.5</td>\n",
       "    </tr>\n",
       "    <tr>\n",
       "      <th>4</th>\n",
       "      <td>CMT</td>\n",
       "      <td>1</td>\n",
       "      <td>1</td>\n",
       "      <td>661</td>\n",
       "      <td>1.1</td>\n",
       "      <td>CRD</td>\n",
       "      <td>8.5</td>\n",
       "    </tr>\n",
       "  </tbody>\n",
       "</table>\n",
       "</div>"
      ],
      "text/plain": [
       "  vendor_id  rate_code  passenger_count  trip_time_in_secs  trip_distance  \\\n",
       "0       CMT          1                1               1271            3.8   \n",
       "1       CMT          1                1                474            1.5   \n",
       "2       CMT          1                1                637            1.4   \n",
       "3       CMT          1                1                181            0.6   \n",
       "4       CMT          1                1                661            1.1   \n",
       "\n",
       "  payment_type  fare_amount  \n",
       "0          CRD         17.5  \n",
       "1          CRD          8.0  \n",
       "2          CRD          8.5  \n",
       "3          CSH          4.5  \n",
       "4          CRD          8.5  "
      ]
     },
     "execution_count": 6,
     "metadata": {},
     "output_type": "execute_result"
    }
   ],
   "source": [
    "\n",
    "tax_train = pd.read_csv(taxi_train)\n",
    "tax_train.head()"
   ]
  },
  {
   "cell_type": "code",
   "execution_count": 7,
   "metadata": {},
   "outputs": [
    {
     "name": "stdout",
     "output_type": "stream",
     "text": [
      "<class 'pandas.core.frame.DataFrame'>\n",
      "RangeIndex: 1048575 entries, 0 to 1048574\n",
      "Data columns (total 7 columns):\n",
      "vendor_id            1048575 non-null object\n",
      "rate_code            1048575 non-null int64\n",
      "passenger_count      1048575 non-null int64\n",
      "trip_time_in_secs    1048575 non-null int64\n",
      "trip_distance        1048575 non-null float64\n",
      "payment_type         1048575 non-null object\n",
      "fare_amount          1048575 non-null float64\n",
      "dtypes: float64(2), int64(3), object(2)\n",
      "memory usage: 56.0+ MB\n"
     ]
    }
   ],
   "source": [
    "tax_train.info()"
   ]
  },
  {
   "cell_type": "code",
   "execution_count": 8,
   "metadata": {},
   "outputs": [
    {
     "data": {
      "text/plain": [
       "array([1])"
      ]
     },
     "execution_count": 8,
     "metadata": {},
     "output_type": "execute_result"
    }
   ],
   "source": [
    "tax_train = tax_train[tax_train.passenger_count==1]\n",
    "tax_train.passenger_count.unique()"
   ]
  },
  {
   "cell_type": "code",
   "execution_count": 9,
   "metadata": {},
   "outputs": [
    {
     "data": {
      "text/html": [
       "<div>\n",
       "<style scoped>\n",
       "    .dataframe tbody tr th:only-of-type {\n",
       "        vertical-align: middle;\n",
       "    }\n",
       "\n",
       "    .dataframe tbody tr th {\n",
       "        vertical-align: top;\n",
       "    }\n",
       "\n",
       "    .dataframe thead th {\n",
       "        text-align: right;\n",
       "    }\n",
       "</style>\n",
       "<table border=\"1\" class=\"dataframe\">\n",
       "  <thead>\n",
       "    <tr style=\"text-align: right;\">\n",
       "      <th></th>\n",
       "      <th>vendor_id</th>\n",
       "      <th>rate_code</th>\n",
       "      <th>passenger_count</th>\n",
       "      <th>trip_time_in_secs</th>\n",
       "      <th>trip_distance</th>\n",
       "      <th>payment_type</th>\n",
       "      <th>fare_amount</th>\n",
       "    </tr>\n",
       "  </thead>\n",
       "  <tbody>\n",
       "    <tr>\n",
       "      <th>0</th>\n",
       "      <td>VTS</td>\n",
       "      <td>1</td>\n",
       "      <td>1</td>\n",
       "      <td>1140</td>\n",
       "      <td>3.75</td>\n",
       "      <td>CRD</td>\n",
       "      <td>15.5</td>\n",
       "    </tr>\n",
       "    <tr>\n",
       "      <th>1</th>\n",
       "      <td>VTS</td>\n",
       "      <td>1</td>\n",
       "      <td>1</td>\n",
       "      <td>480</td>\n",
       "      <td>2.72</td>\n",
       "      <td>CRD</td>\n",
       "      <td>10.0</td>\n",
       "    </tr>\n",
       "    <tr>\n",
       "      <th>2</th>\n",
       "      <td>VTS</td>\n",
       "      <td>1</td>\n",
       "      <td>1</td>\n",
       "      <td>1680</td>\n",
       "      <td>7.80</td>\n",
       "      <td>CSH</td>\n",
       "      <td>26.5</td>\n",
       "    </tr>\n",
       "    <tr>\n",
       "      <th>3</th>\n",
       "      <td>VTS</td>\n",
       "      <td>1</td>\n",
       "      <td>1</td>\n",
       "      <td>600</td>\n",
       "      <td>4.73</td>\n",
       "      <td>CSH</td>\n",
       "      <td>14.5</td>\n",
       "    </tr>\n",
       "    <tr>\n",
       "      <th>4</th>\n",
       "      <td>VTS</td>\n",
       "      <td>1</td>\n",
       "      <td>1</td>\n",
       "      <td>600</td>\n",
       "      <td>2.18</td>\n",
       "      <td>CRD</td>\n",
       "      <td>9.5</td>\n",
       "    </tr>\n",
       "  </tbody>\n",
       "</table>\n",
       "</div>"
      ],
      "text/plain": [
       "  vendor_id  rate_code  passenger_count  trip_time_in_secs  trip_distance  \\\n",
       "0       VTS          1                1               1140           3.75   \n",
       "1       VTS          1                1                480           2.72   \n",
       "2       VTS          1                1               1680           7.80   \n",
       "3       VTS          1                1                600           4.73   \n",
       "4       VTS          1                1                600           2.18   \n",
       "\n",
       "  payment_type  fare_amount  \n",
       "0          CRD         15.5  \n",
       "1          CRD         10.0  \n",
       "2          CSH         26.5  \n",
       "3          CSH         14.5  \n",
       "4          CRD          9.5  "
      ]
     },
     "execution_count": 9,
     "metadata": {},
     "output_type": "execute_result"
    }
   ],
   "source": [
    "\n",
    "tax_test = pd.read_csv(taxi_test)\n",
    "tax_test.head()"
   ]
  },
  {
   "cell_type": "code",
   "execution_count": null,
   "metadata": {},
   "outputs": [],
   "source": []
  },
  {
   "cell_type": "code",
   "execution_count": 9,
   "metadata": {},
   "outputs": [],
   "source": [
    "\n",
    "\n",
    "X = tax_train['trip_distance']\n",
    "y = tax_train['fare_amount']"
   ]
  },
  {
   "cell_type": "markdown",
   "metadata": {},
   "source": [
    "## Steps :\n",
    "\n",
    "1. Load data\n",
    "2. Clean data\n",
    "3. Train model with training dataset\n",
    "4. Have a look at the statistics\n",
    "5. Test the trained model with provided test dataset"
   ]
  },
  {
   "cell_type": "markdown",
   "metadata": {},
   "source": [
    "## Data details\n",
    "\n",
    "These data sets are originally from the http://www.nyc.gov/html/tlc/html/about/trip_record_data.shtml.\n",
    "\n",
    "The label is the identifier of the column you are trying to predict. The identified features are used to predict the label.\n",
    "\n",
    "vendor_id: The ID of the taxi vendor is a feature.\n",
    "\n",
    "rate_code: The rate type of the taxi trip is a feature.\n",
    "\n",
    "passenger_count: The number of passengers on the trip is a feature.\n",
    "\n",
    "trip_time_in_secs: The amount of time the trip took. You won't know how long the trip takes until after it is \n",
    "\n",
    "completed. You exclude this column from the model.\n",
    "\n",
    "trip_distance: The distance of the trip is a feature.\n",
    "\n",
    "payment_type: The payment method (cash or credit card) is a feature.\n",
    "\n",
    "fare_amount: The total taxi fare paid is the label.\n"
   ]
  },
  {
   "cell_type": "code",
   "execution_count": 10,
   "metadata": {},
   "outputs": [],
   "source": [
    "from sklearn import linear_model\n",
    "import pandas as pd\n",
    "import matplotlib.pyplot as plt\n",
    "import numpy as np\n",
    "import math   # yep! going to a bit of maths later!!\n",
    "from scipy import stats as st # and some stats"
   ]
  },
  {
   "cell_type": "markdown",
   "metadata": {},
   "source": [
    "## Problem Statement : \n",
    "Predict the price of a car given its compression ratio"
   ]
  },
  {
   "cell_type": "code",
   "execution_count": 11,
   "metadata": {},
   "outputs": [
    {
     "data": {
      "text/plain": [
       "count    1.048575e+06\n",
       "mean     2.777991e+00\n",
       "std      3.301277e+00\n",
       "min      0.000000e+00\n",
       "25%      1.000000e+00\n",
       "50%      1.700000e+00\n",
       "75%      3.090000e+00\n",
       "max      9.870000e+01\n",
       "Name: trip_distance, dtype: float64"
      ]
     },
     "execution_count": 11,
     "metadata": {},
     "output_type": "execute_result"
    }
   ],
   "source": [
    "X.describe()"
   ]
  },
  {
   "cell_type": "code",
   "execution_count": 12,
   "metadata": {},
   "outputs": [
    {
     "data": {
      "text/plain": [
       "count    1.048575e+06\n",
       "mean     1.166208e+01\n",
       "std      9.594169e+00\n",
       "min      2.500000e+00\n",
       "25%      6.500000e+00\n",
       "50%      9.000000e+00\n",
       "75%      1.300000e+01\n",
       "max      4.250000e+02\n",
       "Name: fare_amount, dtype: float64"
      ]
     },
     "execution_count": 12,
     "metadata": {},
     "output_type": "execute_result"
    }
   ],
   "source": [
    "y.describe()"
   ]
  },
  {
   "cell_type": "code",
   "execution_count": 13,
   "metadata": {},
   "outputs": [
    {
     "name": "stdout",
     "output_type": "stream",
     "text": [
      "('Std Dev of X Training set: ', 3.3012758458793128, '\\n')\n",
      "('Std Dev of Y Training set: ', 9.594164338506618, '\\n')\n"
     ]
    }
   ],
   "source": [
    "print (\"Std Dev of X Training set: \", np.std(X), \"\\n\")\n",
    "print (\"Std Dev of Y Training set: \", np.std(y), \"\\n\")"
   ]
  },
  {
   "cell_type": "markdown",
   "metadata": {},
   "source": [
    "## Data Split between train and test"
   ]
  },
  {
   "cell_type": "code",
   "execution_count": 14,
   "metadata": {},
   "outputs": [
    {
     "name": "stdout",
     "output_type": "stream",
     "text": [
      "('Mean of X Training set: ', 2.77516767523152, '\\n')\n",
      "('Median of X Training set: ', 1.7, '\\n')\n",
      "('Mean of Y Training set: ', 11.656076311844265, '\\n')\n",
      "('Median of Y Training set: ', 9.0, '\\n')\n",
      "('Std Dev of X Training set: ', 3.2954483548868456, '\\n')\n",
      "('Std Dev of Y Training set: ', 9.573915664349041, '\\n')\n"
     ]
    }
   ],
   "source": [
    "from sklearn.model_selection import train_test_split\n",
    "\n",
    "x_training_set, x_test_set, y_training_set, y_test_set = train_test_split(X,y)\n",
    "\n",
    "# Review some of the statistics to check whether the data is skewed\n",
    "print (\"Mean of X Training set: \", np.mean(x_training_set), \"\\n\")\n",
    "print (\"Median of X Training set: \", np.median(x_training_set), \"\\n\")\n",
    "print (\"Mean of Y Training set: \", np.mean(y_training_set), \"\\n\")\n",
    "print (\"Median of Y Training set: \", np.median(y_training_set), \"\\n\")\n",
    "print (\"Std Dev of X Training set: \", np.std(x_training_set), \"\\n\")\n",
    "print (\"Std Dev of Y Training set: \", np.std(y_training_set), \"\\n\")"
   ]
  },
  {
   "cell_type": "code",
   "execution_count": null,
   "metadata": {},
   "outputs": [],
   "source": []
  },
  {
   "cell_type": "code",
   "execution_count": 15,
   "metadata": {},
   "outputs": [],
   "source": [
    "\n",
    "x_training_set, x_test_set, y_training_set, y_test_set = x_training_set.values, x_test_set.values, y_training_set.values, y_test_set.values\n",
    "x_training_set, x_test_set, y_training_set, y_test_set = x_training_set.reshape(-1, 1), x_test_set.reshape(-1, 1), y_training_set.reshape(-1, 1), y_test_set.reshape(-1, 1)"
   ]
  },
  {
   "cell_type": "markdown",
   "metadata": {},
   "source": [
    "## Exploration"
   ]
  },
  {
   "cell_type": "code",
   "execution_count": 16,
   "metadata": {},
   "outputs": [
    {
     "data": {
      "image/png": "[encoded data removed]",
      "text/plain": [
       "<Figure size 432x288 with 1 Axes>"
      ]
     },
     "metadata": {},
     "output_type": "display_data"
    },
    {
     "data": {
      "image/png": "[encoded data removed]",
      "text/plain": [
       "<Figure size 432x288 with 2 Axes>"
      ]
     },
     "metadata": {},
     "output_type": "display_data"
    },
    {
     "data": {
      "image/png": "[encoded data removed]",
      "text/plain": [
       "<Figure size 432x288 with 2 Axes>"
      ]
     },
     "metadata": {},
     "output_type": "display_data"
    }
   ],
   "source": [
    "# So let's plot some of the data \n",
    "# - this gives some core routines to experiment with different parameters\n",
    "plt.title('Relationship between dependent and target variable')\n",
    "plt.scatter(x_training_set, y_training_set,  color='black')\n",
    "plt.show()\n",
    "\n",
    "# Use subplot to have graphs side by side\n",
    "plt.subplot(1, 2, 1)\n",
    "plt.title('X training set')\n",
    "plt.hist(x_training_set)\n",
    "\n",
    "plt.subplot(1, 2, 2)\n",
    "plt.title('Y training set')\n",
    "plt.hist(y_training_set)\n",
    "plt.show()\n",
    "\n",
    "plt.subplot(1, 2, 1)\n",
    "plt.title('X training set')\n",
    "plt.boxplot(x_training_set)\n",
    "\n",
    "plt.subplot(1, 2, 2)\n",
    "plt.title('Y training set')\n",
    "plt.boxplot(y_training_set)\n",
    "plt.show()"
   ]
  },
  {
   "cell_type": "markdown",
   "metadata": {},
   "source": [
    "## Fitting"
   ]
  },
  {
   "cell_type": "code",
   "execution_count": 18,
   "metadata": {},
   "outputs": [
    {
     "data": {
      "text/plain": [
       "LinearRegression(copy_X=True, fit_intercept=True, n_jobs=1, normalize=False)"
      ]
     },
     "execution_count": 18,
     "metadata": {},
     "output_type": "execute_result"
    }
   ],
   "source": [
    "lm = linear_model.LinearRegression()\n",
    "# ... then fir it\n",
    "lm.fit(x_training_set,y_training_set)\n"
   ]
  },
  {
   "cell_type": "markdown",
   "metadata": {},
   "source": [
    "## Model Statistics or Interpretation"
   ]
  },
  {
   "cell_type": "code",
   "execution_count": 20,
   "metadata": {},
   "outputs": [
    {
     "name": "stdout",
     "output_type": "stream",
     "text": [
      "('R sq: ', 0.7729861480277364)\n",
      "('Correlation: ', 0.8791963080153011)\n",
      "('Coefficient for X ', array([[2.55423554]]))\n",
      "('Standard Error: ', array([0.00371608]))\n",
      "('The t-statistic:', array([[687.34767736]]))\n",
      "('Two tailed p-values: ', (array([0.87919631]), array([0.])))\n",
      "('The F-statistic is:  ', 7812713.300279605)\n"
     ]
    }
   ],
   "source": [
    "\n",
    "\n",
    "# and so the correlation is..\n",
    "print('Correlation: ', math.sqrt(model_score))\n",
    "\n",
    "# This the coefficient for the single feature\n",
    "print(\"Coefficient for X \", lm.coef_)\n",
    "\n",
    "# Get the standard error\n",
    "print (\"Standard Error: \",st.sem(x_training_set))\n",
    "# Our null hypothesis for this is that there is no difference between the coefficient and the true value\n",
    "# that the coefficient should be\n",
    "ttest = lm.coef_/st.sem(x_training_set)\n",
    "print (\"The t-statistic:\",ttest)\n",
    "\n",
    "# but we need the p-value to help determine the probablity that we have a correct t-statistic\n",
    "print (\"Two tailed p-values: \",st.pearsonr(x_training_set, y_training_set))\n",
    "\n",
    "# F-statistic  shows whether there is a relationship between the response and the predictors\n",
    "\n",
    "# First get the total sum of the squares.\n",
    "TSS = y_training_set\n",
    "TSS = [i**2 for i in TSS]   # Using list comprehension to square each element\n",
    "TSS = np.sum(TSS)\n",
    "\n",
    "# This calculates the residual sum of the squares\n",
    "y_predicted = lm.predict(x_training_set)   # These are predicted values of Y\n",
    "y_variance = y_training_set - y_predicted # These are the residuals bewteen actual values of Y and the predcitions\n",
    "y_variance = [i**2 for i in y_variance]   # Using list comprehension to square each element\n",
    "RSS = np.sum(y_variance)\n",
    "\n",
    "# f-statistic formula for single variable = ((TSS -RSS)/p)/(RSS/(n - p -1)) becomes\n",
    "#(TSS - RSS)/(RSS/ (n - 2) )\n",
    "Fstatistic = (TSS - RSS) / (RSS/(np.size(y_predicted) - 2))\n",
    "print (\"The F-statistic is:  \", Fstatistic)"
   ]
  },
  {
   "cell_type": "code",
   "execution_count": 23,
   "metadata": {},
   "outputs": [
    {
     "name": "stdout",
     "output_type": "stream",
     "text": [
      "('R sq: ', 0.7729861480277364)\n",
      "('Coefficients: ', array([[2.55423554]]))\n",
      "Mean squared error: 21.33\n",
      "Variance score: 0.77\n"
     ]
    }
   ],
   "source": [
    "from sklearn.metrics import mean_squared_error, r2_score\n",
    "\n",
    "\n",
    "model_score = lm.score(x_training_set,y_training_set)\n",
    "# Have a look at R sq to give an idea of the fit ,\n",
    "# Explained variance score: 1 is perfect prediction\n",
    "print('R sq: ',model_score)\n",
    "\n",
    "y_predicted = lm.predict(x_test_set)\n",
    "\n",
    "# The coefficients\n",
    "print('Coefficients: ', lm.coef_)\n",
    "# The mean squared error\n",
    "print(\"Mean squared error: %.2f\"\n",
    "      % mean_squared_error(y_test_set, y_predicted))\n",
    "# Explained variance score: 1 is perfect prediction\n",
    "print('Variance score: %.2f' % r2_score(y_test_set, y_predicted))\n"
   ]
  },
  {
   "cell_type": "markdown",
   "metadata": {},
   "source": [
    "## Validation"
   ]
  },
  {
   "cell_type": "code",
   "execution_count": 27,
   "metadata": {},
   "outputs": [
    {
     "data": {
      "image/png": "[encoded data removed]",
      "text/plain": [
       "<Figure size 432x288 with 1 Axes>"
      ]
     },
     "metadata": {},
     "output_type": "display_data"
    }
   ],
   "source": [
    "# So let's run the model against the test data\n",
    "y_predicted = lm.predict(x_test_set)\n",
    "\n",
    "plt.title('Comparison of Y values in test and the Predicted values')\n",
    "plt.ylabel('Test Set')\n",
    "plt.xlabel('Predicted values')\n",
    "plt.scatter(y_predicted, y_test_set,  color='black')\n",
    "plt.show()"
   ]
  },
  {
   "cell_type": "code",
   "execution_count": 29,
   "metadata": {},
   "outputs": [
    {
     "data": {
      "image/png": "[encoded data removed]",
      "text/plain": [
       "<Figure size 432x288 with 1 Axes>"
      ]
     },
     "metadata": {},
     "output_type": "display_data"
    }
   ],
   "source": [
    "# Plot outputs\n",
    "y_predicted = lm.predict(x_test_set)\n",
    "\n",
    "plt.title('Comparison of Y values in test and the Predicted values')\n",
    "plt.ylabel('Test Set')\n",
    "plt.xlabel('Predicted values')\n",
    "plt.scatter(x_test_set, y_test_set,  color='black')\n",
    "plt.plot(x_test_set, y_predicted, color='blue', linewidth=3)\n",
    "\n",
    "plt.xticks(())\n",
    "plt.yticks(())\n",
    "\n",
    "plt.show()"
   ]
  },
  {
   "cell_type": "code",
   "execution_count": null,
   "metadata": {},
   "outputs": [],
   "source": []
  }
 ],
 "metadata": {
  "kernelspec": {
   "display_name": "Python 3",
   "language": "python",
   "name": "python3"
  },
  "language_info": {
   "codemirror_mode": {
    "name": "ipython",
    "version": 3
   },
   "file_extension": ".py",
   "mimetype": "text/x-python",
   "name": "python",
   "nbconvert_exporter": "python",
   "pygments_lexer": "ipython3",
   "version": "3.7.0"
  }
 },
 "nbformat": 4,
 "nbformat_minor": 2
}
